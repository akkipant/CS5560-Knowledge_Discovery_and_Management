{
  "nbformat": 4,
  "nbformat_minor": 0,
  "metadata": {
    "colab": {
      "name": "KDM_ICP-4.ipynb",
      "provenance": [],
      "collapsed_sections": [],
      "include_colab_link": true
    },
    "kernelspec": {
      "name": "python3",
      "display_name": "Python 3"
    }
  },
  "cells": [
    {
      "cell_type": "markdown",
      "metadata": {
        "id": "view-in-github",
        "colab_type": "text"
      },
      "source": [
        "<a href=\"https://colab.research.google.com/github/akkipant/CS5560-Knowledge_Discovery_and_Management/blob/main/ICP-4/Source/KDM_ICP_4.ipynb\" target=\"_parent\"><img src=\"https://colab.research.google.com/assets/colab-badge.svg\" alt=\"Open In Colab\"/></a>"
      ]
    },
    {
      "cell_type": "markdown",
      "metadata": {
        "id": "iqjcwzS24Jr_"
      },
      "source": [
        "Setting up PySpark in Colab\r\n",
        "\r\n",
        "Spark is written in the Scala programming language and requires the Java Virtual Machine (JVM) to run. Therefore, our first task is to download Java"
      ]
    },
    {
      "cell_type": "code",
      "metadata": {
        "id": "9iGswToj4LIS",
        "colab": {
          "base_uri": "https://localhost:8080/"
        },
        "outputId": "383d8495-0654-48d9-a5fb-1942f21f628b"
      },
      "source": [
        "!sudo apt-get update\r\n",
        "!apt-get install openjdk-8-jdk-headless -qq > /dev/null"
      ],
      "execution_count": 1,
      "outputs": [
        {
          "output_type": "stream",
          "text": [
            "\r0% [Working]\r            \rGet:1 http://security.ubuntu.com/ubuntu bionic-security InRelease [88.7 kB]\n",
            "\r0% [Connecting to archive.ubuntu.com (91.189.88.142)] [1 InRelease 14.2 kB/88.7\r0% [Waiting for headers] [Connected to cloud.r-project.org (65.8.180.105)] [Wai\r                                                                               \rIgn:2 https://developer.download.nvidia.com/compute/cuda/repos/ubuntu1804/x86_64  InRelease\n",
            "Get:3 https://cloud.r-project.org/bin/linux/ubuntu bionic-cran40/ InRelease [3,626 B]\n",
            "Hit:4 http://archive.ubuntu.com/ubuntu bionic InRelease\n",
            "Get:5 http://ppa.launchpad.net/c2d4u.team/c2d4u4.0+/ubuntu bionic InRelease [15.9 kB]\n",
            "Ign:6 https://developer.download.nvidia.com/compute/machine-learning/repos/ubuntu1804/x86_64  InRelease\n",
            "Hit:7 https://developer.download.nvidia.com/compute/cuda/repos/ubuntu1804/x86_64  Release\n",
            "Hit:8 https://developer.download.nvidia.com/compute/machine-learning/repos/ubuntu1804/x86_64  Release\n",
            "Get:9 http://archive.ubuntu.com/ubuntu bionic-updates InRelease [88.7 kB]\n",
            "Get:10 http://security.ubuntu.com/ubuntu bionic-security/main amd64 Packages [1,929 kB]\n",
            "Hit:11 http://ppa.launchpad.net/cran/libgit2/ubuntu bionic InRelease\n",
            "Get:12 https://cloud.r-project.org/bin/linux/ubuntu bionic-cran40/ Packages [45.4 kB]\n",
            "Get:13 http://security.ubuntu.com/ubuntu bionic-security/universe amd64 Packages [1,391 kB]\n",
            "Get:14 http://archive.ubuntu.com/ubuntu bionic-backports InRelease [74.6 kB]\n",
            "Hit:15 http://ppa.launchpad.net/graphics-drivers/ppa/ubuntu bionic InRelease\n",
            "Get:18 http://ppa.launchpad.net/c2d4u.team/c2d4u4.0+/ubuntu bionic/main Sources [1,732 kB]\n",
            "Get:19 http://archive.ubuntu.com/ubuntu bionic-updates/universe amd64 Packages [2,162 kB]\n",
            "Get:20 http://archive.ubuntu.com/ubuntu bionic-updates/main amd64 Packages [2,360 kB]\n",
            "Get:21 http://ppa.launchpad.net/c2d4u.team/c2d4u4.0+/ubuntu bionic/main amd64 Packages [886 kB]\n",
            "Fetched 10.8 MB in 3s (4,296 kB/s)\n",
            "Reading package lists... Done\n"
          ],
          "name": "stdout"
        }
      ]
    },
    {
      "cell_type": "markdown",
      "metadata": {
        "id": "xzRtNPkq5VIR"
      },
      "source": [
        "Next, we will install Apache Spark 3.0.1 with Hadoop 2.7"
      ]
    },
    {
      "cell_type": "code",
      "metadata": {
        "id": "HBYZfbpk34H3"
      },
      "source": [
        "!wget -q https://www-us.apache.org/dist/spark/spark-3.0.1/spark-3.0.1-bin-hadoop2.7.tgz"
      ],
      "execution_count": 2,
      "outputs": []
    },
    {
      "cell_type": "markdown",
      "metadata": {
        "id": "4L21HeCi5bde"
      },
      "source": [
        "Now, we just need to unzip that folder."
      ]
    },
    {
      "cell_type": "code",
      "metadata": {
        "id": "8-D2QoWK5cEg"
      },
      "source": [
        "!tar xf spark-3.0.1-bin-hadoop2.7.tgz"
      ],
      "execution_count": 3,
      "outputs": []
    },
    {
      "cell_type": "markdown",
      "metadata": {
        "id": "grIssZqC8aYj"
      },
      "source": [
        "There is one last thing that we need to install and that is the findspark library. It will locate Spark on the system and import it as a regular library."
      ]
    },
    {
      "cell_type": "code",
      "metadata": {
        "id": "wke-MaxX57M9"
      },
      "source": [
        "!pip install -q findspark"
      ],
      "execution_count": 4,
      "outputs": []
    },
    {
      "cell_type": "markdown",
      "metadata": {
        "id": "3AJ1RV578hE9"
      },
      "source": [
        "Now that we have installed all the necessary dependencies in Colab, it is time to set the environment path. This will enable us to run Pyspark in the Colab environment."
      ]
    },
    {
      "cell_type": "code",
      "metadata": {
        "id": "zvMEW0ol59ts"
      },
      "source": [
        "import os\r\n",
        "os.environ[\"JAVA_HOME\"] = \"/usr/lib/jvm/java-8-openjdk-amd64\"\r\n",
        "os.environ[\"SPARK_HOME\"] = \"/content/spark-3.0.1-bin-hadoop2.7\""
      ],
      "execution_count": 5,
      "outputs": []
    },
    {
      "cell_type": "markdown",
      "metadata": {
        "id": "weGRBVLK8nKb"
      },
      "source": [
        "We need to locate Spark in the system. For that, we import findspark and use the findspark.init() method."
      ]
    },
    {
      "cell_type": "code",
      "metadata": {
        "id": "WSleoMKz6Ecg"
      },
      "source": [
        "import findspark\r\n",
        "findspark.init()"
      ],
      "execution_count": 6,
      "outputs": []
    },
    {
      "cell_type": "markdown",
      "metadata": {
        "id": "r6gW5avs8yWa"
      },
      "source": [
        "If you want to know the location where Spark is installed, use findspark.find()"
      ]
    },
    {
      "cell_type": "code",
      "metadata": {
        "colab": {
          "base_uri": "https://localhost:8080/",
          "height": 35
        },
        "id": "a3EHL6x76KcK",
        "outputId": "3d578246-a691-4876-aa06-8834c56576d5"
      },
      "source": [
        "findspark.find()"
      ],
      "execution_count": 7,
      "outputs": [
        {
          "output_type": "execute_result",
          "data": {
            "application/vnd.google.colaboratory.intrinsic+json": {
              "type": "string"
            },
            "text/plain": [
              "'/content/spark-3.0.1-bin-hadoop2.7'"
            ]
          },
          "metadata": {
            "tags": []
          },
          "execution_count": 7
        }
      ]
    },
    {
      "cell_type": "markdown",
      "metadata": {
        "id": "sI0EI6Ox87wT"
      },
      "source": [
        "Now, we can import SparkSession from pyspark.sql and create a SparkSession, which is the entry point to Spark.\r\n",
        "\r\n",
        "You can give a name to the session using appName() and add some configurations with config() if you wish."
      ]
    },
    {
      "cell_type": "code",
      "metadata": {
        "id": "IcGOvWMJ6PUo"
      },
      "source": [
        "from pyspark.sql import SparkSession\r\n",
        "\r\n",
        "spark = SparkSession.builder\\\r\n",
        "        .master(\"local\")\\\r\n",
        "        .appName(\"Colab\")\\\r\n",
        "        .config('spark.ui.port', '4050')\\\r\n",
        "        .getOrCreate()"
      ],
      "execution_count": 8,
      "outputs": []
    },
    {
      "cell_type": "markdown",
      "metadata": {
        "id": "djWQ29kL9Ogy"
      },
      "source": [
        "Finally, print the SparkSession variable."
      ]
    },
    {
      "cell_type": "code",
      "metadata": {
        "colab": {
          "base_uri": "https://localhost:8080/",
          "height": 216
        },
        "id": "GvcENqE16XEj",
        "outputId": "494b4277-5a22-475a-f881-c7964b9dacdf"
      },
      "source": [
        "spark"
      ],
      "execution_count": null,
      "outputs": [
        {
          "output_type": "execute_result",
          "data": {
            "text/html": [
              "\n",
              "            <div>\n",
              "                <p><b>SparkSession - in-memory</b></p>\n",
              "                \n",
              "        <div>\n",
              "            <p><b>SparkContext</b></p>\n",
              "\n",
              "            <p><a href=\"http://6419e858038b:4050\">Spark UI</a></p>\n",
              "\n",
              "            <dl>\n",
              "              <dt>Version</dt>\n",
              "                <dd><code>v3.0.1</code></dd>\n",
              "              <dt>Master</dt>\n",
              "                <dd><code>local</code></dd>\n",
              "              <dt>AppName</dt>\n",
              "                <dd><code>Colab</code></dd>\n",
              "            </dl>\n",
              "        </div>\n",
              "        \n",
              "            </div>\n",
              "        "
            ],
            "text/plain": [
              "<pyspark.sql.session.SparkSession at 0x7f1e85ab1f98>"
            ]
          },
          "metadata": {
            "tags": []
          },
          "execution_count": 9
        }
      ]
    },
    {
      "cell_type": "code",
      "metadata": {
        "colab": {
          "base_uri": "https://localhost:8080/"
        },
        "id": "e4btlV8p6b3Q",
        "outputId": "124f7b31-0965-4fc2-d1eb-27a50502dac2"
      },
      "source": [
        "# load data from data.csv file\r\n",
        "\r\n",
        "df = spark.read.csv(\"/content/data.csv\", header=True, inferSchema= True)\r\n",
        "df.show()\r\n"
      ],
      "execution_count": 10,
      "outputs": [
        {
          "output_type": "stream",
          "text": [
            "+----------+------+-------------+-------+----------+------+------------+----------------+---------------+-------------------+-------------------+-------------------+-------------------+-------------------+-------------------+--------------+----------------+--------------------+--------------+------------+-----+\n",
            "|customerID|gender|SeniorCitizen|Partner|Dependents|tenure|PhoneService|   MultipleLines|InternetService|     OnlineSecurity|       OnlineBackup|   DeviceProtection|        TechSupport|        StreamingTV|    StreamingMovies|      Contract|PaperlessBilling|       PaymentMethod|MonthlyCharges|TotalCharges|Churn|\n",
            "+----------+------+-------------+-------+----------+------+------------+----------------+---------------+-------------------+-------------------+-------------------+-------------------+-------------------+-------------------+--------------+----------------+--------------------+--------------+------------+-----+\n",
            "|7590-VHVEG|Female|            0|    Yes|        No|     1|          No|No phone service|            DSL|                 No|                Yes|                 No|                 No|                 No|                 No|Month-to-month|             Yes|    Electronic check|         29.85|       29.85|   No|\n",
            "|5575-GNVDE|  Male|            0|     No|        No|    34|         Yes|              No|            DSL|                Yes|                 No|                Yes|                 No|                 No|                 No|      One year|              No|        Mailed check|         56.95|      1889.5|   No|\n",
            "|3668-QPYBK|  Male|            0|     No|        No|     2|         Yes|              No|            DSL|                Yes|                Yes|                 No|                 No|                 No|                 No|Month-to-month|             Yes|        Mailed check|         53.85|      108.15|  Yes|\n",
            "|7795-CFOCW|  Male|            0|     No|        No|    45|          No|No phone service|            DSL|                Yes|                 No|                Yes|                Yes|                 No|                 No|      One year|              No|Bank transfer (au...|          42.3|     1840.75|   No|\n",
            "|9237-HQITU|Female|            0|     No|        No|     2|         Yes|              No|    Fiber optic|                 No|                 No|                 No|                 No|                 No|                 No|Month-to-month|             Yes|    Electronic check|          70.7|      151.65|  Yes|\n",
            "|9305-CDSKC|Female|            0|     No|        No|     8|         Yes|             Yes|    Fiber optic|                 No|                 No|                Yes|                 No|                Yes|                Yes|Month-to-month|             Yes|    Electronic check|         99.65|       820.5|  Yes|\n",
            "|1452-KIOVK|  Male|            0|     No|       Yes|    22|         Yes|             Yes|    Fiber optic|                 No|                Yes|                 No|                 No|                Yes|                 No|Month-to-month|             Yes|Credit card (auto...|          89.1|      1949.4|   No|\n",
            "|6713-OKOMC|Female|            0|     No|        No|    10|          No|No phone service|            DSL|                Yes|                 No|                 No|                 No|                 No|                 No|Month-to-month|              No|        Mailed check|         29.75|       301.9|   No|\n",
            "|7892-POOKP|Female|            0|    Yes|        No|    28|         Yes|             Yes|    Fiber optic|                 No|                 No|                Yes|                Yes|                Yes|                Yes|Month-to-month|             Yes|    Electronic check|         104.8|     3046.05|  Yes|\n",
            "|6388-TABGU|  Male|            0|     No|       Yes|    62|         Yes|              No|            DSL|                Yes|                Yes|                 No|                 No|                 No|                 No|      One year|              No|Bank transfer (au...|         56.15|     3487.95|   No|\n",
            "|9763-GRSKD|  Male|            0|    Yes|       Yes|    13|         Yes|              No|            DSL|                Yes|                 No|                 No|                 No|                 No|                 No|Month-to-month|             Yes|        Mailed check|         49.95|      587.45|   No|\n",
            "|7469-LKBCI|  Male|            0|     No|        No|    16|         Yes|              No|             No|No internet service|No internet service|No internet service|No internet service|No internet service|No internet service|      Two year|              No|Credit card (auto...|         18.95|       326.8|   No|\n",
            "|8091-TTVAX|  Male|            0|    Yes|        No|    58|         Yes|             Yes|    Fiber optic|                 No|                 No|                Yes|                 No|                Yes|                Yes|      One year|              No|Credit card (auto...|        100.35|      5681.1|   No|\n",
            "|0280-XJGEX|  Male|            0|     No|        No|    49|         Yes|             Yes|    Fiber optic|                 No|                Yes|                Yes|                 No|                Yes|                Yes|Month-to-month|             Yes|Bank transfer (au...|         103.7|      5036.3|  Yes|\n",
            "|5129-JLPIS|  Male|            0|     No|        No|    25|         Yes|              No|    Fiber optic|                Yes|                 No|                Yes|                Yes|                Yes|                Yes|Month-to-month|             Yes|    Electronic check|         105.5|     2686.05|   No|\n",
            "|3655-SNQYZ|Female|            0|    Yes|       Yes|    69|         Yes|             Yes|    Fiber optic|                Yes|                Yes|                Yes|                Yes|                Yes|                Yes|      Two year|              No|Credit card (auto...|        113.25|     7895.15|   No|\n",
            "|8191-XWSZG|Female|            0|     No|        No|    52|         Yes|              No|             No|No internet service|No internet service|No internet service|No internet service|No internet service|No internet service|      One year|              No|        Mailed check|         20.65|     1022.95|   No|\n",
            "|9959-WOFKT|  Male|            0|     No|       Yes|    71|         Yes|             Yes|    Fiber optic|                Yes|                 No|                Yes|                 No|                Yes|                Yes|      Two year|              No|Bank transfer (au...|         106.7|     7382.25|   No|\n",
            "|4190-MFLUW|Female|            0|    Yes|       Yes|    10|         Yes|              No|            DSL|                 No|                 No|                Yes|                Yes|                 No|                 No|Month-to-month|              No|Credit card (auto...|          55.2|      528.35|  Yes|\n",
            "|4183-MYFRB|Female|            0|     No|        No|    21|         Yes|              No|    Fiber optic|                 No|                Yes|                Yes|                 No|                 No|                Yes|Month-to-month|             Yes|    Electronic check|         90.05|      1862.9|   No|\n",
            "+----------+------+-------------+-------+----------+------+------------+----------------+---------------+-------------------+-------------------+-------------------+-------------------+-------------------+-------------------+--------------+----------------+--------------------+--------------+------------+-----+\n",
            "only showing top 20 rows\n",
            "\n"
          ],
          "name": "stdout"
        }
      ]
    },
    {
      "cell_type": "markdown",
      "metadata": {
        "id": "OK-w2c5K5aNG"
      },
      "source": [
        "# 1. Transformation Tasks"
      ]
    },
    {
      "cell_type": "markdown",
      "metadata": {
        "id": "eq4BpqCY5u3D"
      },
      "source": [
        "## a. Sorting data by Total Charges(Desc Order)"
      ]
    },
    {
      "cell_type": "code",
      "metadata": {
        "colab": {
          "base_uri": "https://localhost:8080/"
        },
        "id": "EyqW_omU6-CF",
        "outputId": "f149e67a-5c5a-4e04-87df-36660073c9f7"
      },
      "source": [
        "#task 1\r\n",
        "transform_1 = df.sort(df.TotalCharges.desc())\r\n",
        "print(\"Transformation 1: Sort data based on Total Charges in Descending Order\")\r\n",
        "transform_1.show()"
      ],
      "execution_count": 48,
      "outputs": [
        {
          "output_type": "stream",
          "text": [
            "Transformation 1: Sort data based on Total Charges in Descending Order\n",
            "+----------+------+-------------+-------+----------+------+------------+----------------+---------------+-------------------+-------------------+-------------------+-------------------+-------------------+-------------------+--------------+----------------+--------------------+--------------+------------+-----+\n",
            "|customerID|gender|SeniorCitizen|Partner|Dependents|tenure|PhoneService|   MultipleLines|InternetService|     OnlineSecurity|       OnlineBackup|   DeviceProtection|        TechSupport|        StreamingTV|    StreamingMovies|      Contract|PaperlessBilling|       PaymentMethod|MonthlyCharges|TotalCharges|Churn|\n",
            "+----------+------+-------------+-------+----------+------+------------+----------------+---------------+-------------------+-------------------+-------------------+-------------------+-------------------+-------------------+--------------+----------------+--------------------+--------------+------------+-----+\n",
            "|9093-FPDLG|Female|            0|     No|        No|    11|         Yes|              No|    Fiber optic|                 No|                Yes|                Yes|                Yes|                 No|                Yes|Month-to-month|             Yes|    Electronic check|          94.2|       999.9|   No|\n",
            "|4536-PLEQY|  Male|            0|    Yes|        No|    12|         Yes|              No|    Fiber optic|                 No|                Yes|                 No|                 No|                 No|                Yes|Month-to-month|             Yes|Credit card (auto...|         85.05|       999.8|   No|\n",
            "|5899-MQZZL|Female|            0|     No|        No|    13|         Yes|             Yes|    Fiber optic|                 No|                 No|                 No|                 No|                 No|                 No|Month-to-month|             Yes|        Mailed check|          75.0|      999.45|  Yes|\n",
            "|6051-PTVNS|Female|            0|    Yes|       Yes|    55|         Yes|              No|             No|No internet service|No internet service|No internet service|No internet service|No internet service|No internet service|      One year|              No|Credit card (auto...|         19.15|       998.1|   No|\n",
            "|8249-THVEC|  Male|            0|    Yes|       Yes|    51|         Yes|              No|             No|No internet service|No internet service|No internet service|No internet service|No internet service|No internet service|      One year|              No|        Mailed check|          19.4|      997.75|   No|\n",
            "|6328-ZPBGN|Female|            1|     No|        No|    11|         Yes|             Yes|    Fiber optic|                 No|                 No|                 No|                 No|                Yes|                Yes|Month-to-month|             Yes|Bank transfer (au...|         95.15|      997.65|  Yes|\n",
            "|7297-DVYGA|Female|            0|     No|        No|    51|         Yes|              No|             No|No internet service|No internet service|No internet service|No internet service|No internet service|No internet service|      One year|             Yes|Bank transfer (au...|         19.85|      996.95|   No|\n",
            "|6243-OZGFH|Female|            0|     No|        No|    23|          No|No phone service|            DSL|                 No|                 No|                 No|                 No|                Yes|                Yes|Month-to-month|             Yes|    Electronic check|         44.95|      996.85|   No|\n",
            "|0484-JPBRU|  Male|            0|     No|        No|    41|         Yes|             Yes|             No|No internet service|No internet service|No internet service|No internet service|No internet service|No internet service|Month-to-month|             Yes|Bank transfer (au...|         25.25|      996.45|   No|\n",
            "|2971-SGAFL|Female|            0|     No|        No|    13|         Yes|             Yes|            DSL|                Yes|                 No|                Yes|                 No|                Yes|                Yes|Month-to-month|             Yes|    Electronic check|         78.75|      995.35|   No|\n",
            "|6227-HWPWX|Female|            0|     No|       Yes|    15|         Yes|              No|    Fiber optic|                 No|                 No|                 No|                 No|                 No|                 No|Month-to-month|              No|Bank transfer (au...|          69.0|       994.8|  Yes|\n",
            "|7459-RRWQZ|Female|            0|     No|        No|    15|         Yes|             Yes|            DSL|                Yes|                 No|                 No|                 No|                 No|                Yes|Month-to-month|             Yes|Bank transfer (au...|         64.65|      994.55|  Yes|\n",
            "|0804-YGEQV|Female|            0|    Yes|       Yes|    43|         Yes|             Yes|             No|No internet service|No internet service|No internet service|No internet service|No internet service|No internet service|      One year|             Yes|Bank transfer (au...|         24.45|      993.15|   No|\n",
            "|4495-LHSSK|Female|            0|     No|       Yes|    18|         Yes|             Yes|            DSL|                Yes|                 No|                 No|                 No|                 No|                 No|Month-to-month|              No|        Mailed check|         57.65|       992.7|   No|\n",
            "|8443-WVPSS|  Male|            0|    Yes|        No|    10|         Yes|              No|    Fiber optic|                 No|                Yes|                 No|                Yes|                Yes|                Yes|Month-to-month|             Yes|    Electronic check|         99.85|       990.9|  Yes|\n",
            "|4695-VADHF|  Male|            0|    Yes|       Yes|    18|         Yes|              No|            DSL|                 No|                 No|                Yes|                 No|                 No|                Yes|Month-to-month|              No|    Electronic check|         57.45|      990.85|  Yes|\n",
            "|9451-WLYRI|Female|            0|    Yes|        No|    53|         Yes|              No|             No|No internet service|No internet service|No internet service|No internet service|No internet service|No internet service|      One year|              No|Credit card (auto...|         19.05|      990.45|   No|\n",
            "|1173-XZPYF|Female|            0|     No|        No|    11|         Yes|             Yes|    Fiber optic|                 No|                 No|                Yes|                 No|                Yes|                 No|Month-to-month|             Yes|    Electronic check|          89.2|       990.3|   No|\n",
            "|4815-GBTCD|Female|            0|    Yes|        No|     4|          No|No phone service|            DSL|                 No|                 No|                 No|                 No|                 No|                 No|Month-to-month|             Yes|    Electronic check|         25.15|       99.95|   No|\n",
            "|0107-YHINA|  Male|            0|     No|       Yes|     1|         Yes|             Yes|    Fiber optic|                 No|                 No|                Yes|                 No|                Yes|                Yes|Month-to-month|             Yes|    Electronic check|         99.75|       99.75|  Yes|\n",
            "+----------+------+-------------+-------+----------+------+------------+----------------+---------------+-------------------+-------------------+-------------------+-------------------+-------------------+-------------------+--------------+----------------+--------------------+--------------+------------+-----+\n",
            "only showing top 20 rows\n",
            "\n"
          ],
          "name": "stdout"
        }
      ]
    },
    {
      "cell_type": "markdown",
      "metadata": {
        "id": "7FR2xLwp5yJU"
      },
      "source": [
        "## b. Filtering data for those who have Fiber optic"
      ]
    },
    {
      "cell_type": "code",
      "metadata": {
        "colab": {
          "base_uri": "https://localhost:8080/"
        },
        "id": "sccZ0rgT9yWy",
        "outputId": "aec2dcc2-ca89-428d-b682-803a917b8aa1"
      },
      "source": [
        "# task 2\r\n",
        "\r\n",
        "transform_2 = df.filter(df['InternetService'] == 'Fiber optic')\r\n",
        "print(\"Transformation 3: Filtering data based on Internet Service to include only FiberOptic users\")\r\n",
        "transform_2.show()"
      ],
      "execution_count": 47,
      "outputs": [
        {
          "output_type": "stream",
          "text": [
            "Transformation 3: Filtering data based on Internet Service to include only FiberOptic users\n",
            "+----------+------+-------------+-------+----------+------+------------+-------------+---------------+--------------+------------+----------------+-----------+-----------+---------------+--------------+----------------+--------------------+--------------+------------+-----+\n",
            "|customerID|gender|SeniorCitizen|Partner|Dependents|tenure|PhoneService|MultipleLines|InternetService|OnlineSecurity|OnlineBackup|DeviceProtection|TechSupport|StreamingTV|StreamingMovies|      Contract|PaperlessBilling|       PaymentMethod|MonthlyCharges|TotalCharges|Churn|\n",
            "+----------+------+-------------+-------+----------+------+------------+-------------+---------------+--------------+------------+----------------+-----------+-----------+---------------+--------------+----------------+--------------------+--------------+------------+-----+\n",
            "|9237-HQITU|Female|            0|     No|        No|     2|         Yes|           No|    Fiber optic|            No|          No|              No|         No|         No|             No|Month-to-month|             Yes|    Electronic check|          70.7|      151.65|  Yes|\n",
            "|9305-CDSKC|Female|            0|     No|        No|     8|         Yes|          Yes|    Fiber optic|            No|          No|             Yes|         No|        Yes|            Yes|Month-to-month|             Yes|    Electronic check|         99.65|       820.5|  Yes|\n",
            "|1452-KIOVK|  Male|            0|     No|       Yes|    22|         Yes|          Yes|    Fiber optic|            No|         Yes|              No|         No|        Yes|             No|Month-to-month|             Yes|Credit card (auto...|          89.1|      1949.4|   No|\n",
            "|7892-POOKP|Female|            0|    Yes|        No|    28|         Yes|          Yes|    Fiber optic|            No|          No|             Yes|        Yes|        Yes|            Yes|Month-to-month|             Yes|    Electronic check|         104.8|     3046.05|  Yes|\n",
            "|8091-TTVAX|  Male|            0|    Yes|        No|    58|         Yes|          Yes|    Fiber optic|            No|          No|             Yes|         No|        Yes|            Yes|      One year|              No|Credit card (auto...|        100.35|      5681.1|   No|\n",
            "|0280-XJGEX|  Male|            0|     No|        No|    49|         Yes|          Yes|    Fiber optic|            No|         Yes|             Yes|         No|        Yes|            Yes|Month-to-month|             Yes|Bank transfer (au...|         103.7|      5036.3|  Yes|\n",
            "|5129-JLPIS|  Male|            0|     No|        No|    25|         Yes|           No|    Fiber optic|           Yes|          No|             Yes|        Yes|        Yes|            Yes|Month-to-month|             Yes|    Electronic check|         105.5|     2686.05|   No|\n",
            "|3655-SNQYZ|Female|            0|    Yes|       Yes|    69|         Yes|          Yes|    Fiber optic|           Yes|         Yes|             Yes|        Yes|        Yes|            Yes|      Two year|              No|Credit card (auto...|        113.25|     7895.15|   No|\n",
            "|9959-WOFKT|  Male|            0|     No|       Yes|    71|         Yes|          Yes|    Fiber optic|           Yes|          No|             Yes|         No|        Yes|            Yes|      Two year|              No|Bank transfer (au...|         106.7|     7382.25|   No|\n",
            "|4183-MYFRB|Female|            0|     No|        No|    21|         Yes|           No|    Fiber optic|            No|         Yes|             Yes|         No|         No|            Yes|Month-to-month|             Yes|    Electronic check|         90.05|      1862.9|   No|\n",
            "|6467-CHFZW|  Male|            0|    Yes|       Yes|    47|         Yes|          Yes|    Fiber optic|            No|         Yes|              No|         No|        Yes|            Yes|Month-to-month|             Yes|    Electronic check|         99.35|     4749.15|  Yes|\n",
            "|3841-NFECX|Female|            1|    Yes|        No|    71|         Yes|          Yes|    Fiber optic|           Yes|         Yes|             Yes|        Yes|         No|             No|      Two year|             Yes|Credit card (auto...|         96.35|     6766.95|   No|\n",
            "|4929-XIHVW|  Male|            1|    Yes|        No|     2|         Yes|           No|    Fiber optic|            No|          No|             Yes|         No|        Yes|            Yes|Month-to-month|             Yes|Credit card (auto...|          95.5|      181.65|   No|\n",
            "|6234-RAAPL|Female|            0|    Yes|       Yes|    72|         Yes|          Yes|    Fiber optic|           Yes|         Yes|              No|        Yes|        Yes|             No|      Two year|              No|Bank transfer (au...|          99.9|      7251.7|   No|\n",
            "|6047-YHPVI|  Male|            0|     No|        No|     5|         Yes|           No|    Fiber optic|            No|          No|              No|         No|         No|             No|Month-to-month|             Yes|    Electronic check|          69.7|       316.9|  Yes|\n",
            "|6572-ADKRS|Female|            0|     No|        No|    46|         Yes|           No|    Fiber optic|            No|          No|             Yes|         No|         No|             No|Month-to-month|             Yes|Credit card (auto...|          74.8|      3548.3|   No|\n",
            "|5380-WJKOV|  Male|            0|     No|        No|    34|         Yes|          Yes|    Fiber optic|            No|         Yes|             Yes|         No|        Yes|            Yes|Month-to-month|             Yes|    Electronic check|        106.35|     3549.25|  Yes|\n",
            "|8168-UQWWF|Female|            0|     No|        No|    11|         Yes|          Yes|    Fiber optic|            No|          No|             Yes|         No|        Yes|            Yes|Month-to-month|             Yes|Bank transfer (au...|         97.85|      1105.4|  Yes|\n",
            "|3714-NTNFO|Female|            0|     No|        No|    49|         Yes|          Yes|    Fiber optic|            No|          No|              No|         No|         No|            Yes|Month-to-month|             Yes|    Electronic check|          84.5|      3906.7|   No|\n",
            "|7760-OYPDY|Female|            0|     No|        No|     2|         Yes|           No|    Fiber optic|            No|          No|              No|         No|        Yes|             No|Month-to-month|             Yes|    Electronic check|         80.65|      144.15|  Yes|\n",
            "+----------+------+-------------+-------+----------+------+------------+-------------+---------------+--------------+------------+----------------+-----------+-----------+---------------+--------------+----------------+--------------------+--------------+------------+-----+\n",
            "only showing top 20 rows\n",
            "\n"
          ],
          "name": "stdout"
        }
      ]
    },
    {
      "cell_type": "markdown",
      "metadata": {
        "id": "Tol1d67a5zzy"
      },
      "source": [
        "## c. Combining transformation task: Filtering + grouping by "
      ]
    },
    {
      "cell_type": "code",
      "metadata": {
        "colab": {
          "base_uri": "https://localhost:8080/"
        },
        "id": "b_-smeZV_bau",
        "outputId": "e9f37425-d1a0-4731-8e9d-479b8ea7f0e6"
      },
      "source": [
        "# task 3\r\n",
        "\r\n",
        "# showing number of Male or Female users of DSL with monthly charge of 50 or less\r\n",
        "transform_3 = df.filter('MonthlyCharges < 50 AND InternetService == \"DSL\"').groupBy('Gender').count()\r\n",
        "print(\"Transformation 3: Filtering data based on MonthlyCharges and Service type which is then grouped by Gender\")\r\n",
        "transform_3.show()"
      ],
      "execution_count": 46,
      "outputs": [
        {
          "output_type": "stream",
          "text": [
            "Transformation 3: Filtering data based on MonthlyCharges and Service type which is then grouped by Gender\n",
            "+------+-----+\n",
            "|Gender|count|\n",
            "+------+-----+\n",
            "|Female|  362|\n",
            "|  Male|  406|\n",
            "+------+-----+\n",
            "\n"
          ],
          "name": "stdout"
        }
      ]
    },
    {
      "cell_type": "markdown",
      "metadata": {
        "id": "jmiaUgf25mIM"
      },
      "source": [
        "# 2. Actions Tasks "
      ]
    },
    {
      "cell_type": "markdown",
      "metadata": {
        "id": "pDkRqxOIALJt"
      },
      "source": [
        "## a. Action:  get first element using first function"
      ]
    },
    {
      "cell_type": "code",
      "metadata": {
        "colab": {
          "base_uri": "https://localhost:8080/"
        },
        "id": "Y-OY-7mrAgf2",
        "outputId": "96ec820e-a2f1-44d2-ab05-7d441a50a2a7"
      },
      "source": [
        "# action task 1\r\n",
        "action_1 = df.first()\r\n",
        "print(\"Action 1: Print the first row\")\r\n",
        "action_1\r\n"
      ],
      "execution_count": 34,
      "outputs": [
        {
          "output_type": "stream",
          "text": [
            "Action 1: Print the first row\n"
          ],
          "name": "stdout"
        },
        {
          "output_type": "execute_result",
          "data": {
            "text/plain": [
              "Row(customerID='7590-VHVEG', gender='Female', SeniorCitizen=0, Partner='Yes', Dependents='No', tenure=1, PhoneService='No', MultipleLines='No phone service', InternetService='DSL', OnlineSecurity='No', OnlineBackup='Yes', DeviceProtection='No', TechSupport='No', StreamingTV='No', StreamingMovies='No', Contract='Month-to-month', PaperlessBilling='Yes', PaymentMethod='Electronic check', MonthlyCharges=29.85, TotalCharges='29.85', Churn='No')"
            ]
          },
          "metadata": {
            "tags": []
          },
          "execution_count": 34
        }
      ]
    },
    {
      "cell_type": "markdown",
      "metadata": {
        "id": "GWng-dEdANPM"
      },
      "source": [
        "## b. Action: Printing summary"
      ]
    },
    {
      "cell_type": "code",
      "metadata": {
        "colab": {
          "base_uri": "https://localhost:8080/"
        },
        "id": "XadOHwW6CBkm",
        "outputId": "dd9e152b-177d-4bbe-e327-bbb57ff30688"
      },
      "source": [
        "# action task 2\r\n",
        "action_2 = df.summary()\r\n",
        "print(\"Action 2: Getting all the summary of data set\")\r\n",
        "action_2\r\n"
      ],
      "execution_count": 44,
      "outputs": [
        {
          "output_type": "stream",
          "text": [
            "Action 2: Getting all the summary of data set\n"
          ],
          "name": "stdout"
        },
        {
          "output_type": "execute_result",
          "data": {
            "text/plain": [
              "DataFrame[summary: string, customerID: string, gender: string, SeniorCitizen: string, Partner: string, Dependents: string, tenure: string, PhoneService: string, MultipleLines: string, InternetService: string, OnlineSecurity: string, OnlineBackup: string, DeviceProtection: string, TechSupport: string, StreamingTV: string, StreamingMovies: string, Contract: string, PaperlessBilling: string, PaymentMethod: string, MonthlyCharges: string, TotalCharges: string, Churn: string]"
            ]
          },
          "metadata": {
            "tags": []
          },
          "execution_count": 44
        }
      ]
    },
    {
      "cell_type": "markdown",
      "metadata": {
        "id": "50WRZ5_JAPZ8"
      },
      "source": [
        "## c. Action: Printing last 4 element"
      ]
    },
    {
      "cell_type": "code",
      "metadata": {
        "colab": {
          "base_uri": "https://localhost:8080/"
        },
        "id": "0DrY3VCLDT3J",
        "outputId": "6ba5b47a-8f11-4f21-fc94-34efb5bac5f1"
      },
      "source": [
        "# action Task3\r\n",
        "\r\n",
        "action_3 = df.tail(4)\r\n",
        "print(\"Action 3: Showing first element of data set\")\r\n",
        "action_3"
      ],
      "execution_count": 43,
      "outputs": [
        {
          "output_type": "stream",
          "text": [
            "Action 3: Showing first element of data set\n"
          ],
          "name": "stdout"
        },
        {
          "output_type": "execute_result",
          "data": {
            "text/plain": [
              "[Row(customerID='2234-XADUH', gender='Female', SeniorCitizen=0, Partner='Yes', Dependents='Yes', tenure=72, PhoneService='Yes', MultipleLines='Yes', InternetService='Fiber optic', OnlineSecurity='No', OnlineBackup='Yes', DeviceProtection='Yes', TechSupport='No', StreamingTV='Yes', StreamingMovies='Yes', Contract='One year', PaperlessBilling='Yes', PaymentMethod='Credit card (automatic)', MonthlyCharges=103.2, TotalCharges='7362.9', Churn='No'),\n",
              " Row(customerID='4801-JZAZL', gender='Female', SeniorCitizen=0, Partner='Yes', Dependents='Yes', tenure=11, PhoneService='No', MultipleLines='No phone service', InternetService='DSL', OnlineSecurity='Yes', OnlineBackup='No', DeviceProtection='No', TechSupport='No', StreamingTV='No', StreamingMovies='No', Contract='Month-to-month', PaperlessBilling='Yes', PaymentMethod='Electronic check', MonthlyCharges=29.6, TotalCharges='346.45', Churn='No'),\n",
              " Row(customerID='8361-LTMKD', gender='Male', SeniorCitizen=1, Partner='Yes', Dependents='No', tenure=4, PhoneService='Yes', MultipleLines='Yes', InternetService='Fiber optic', OnlineSecurity='No', OnlineBackup='No', DeviceProtection='No', TechSupport='No', StreamingTV='No', StreamingMovies='No', Contract='Month-to-month', PaperlessBilling='Yes', PaymentMethod='Mailed check', MonthlyCharges=74.4, TotalCharges='306.6', Churn='Yes'),\n",
              " Row(customerID='3186-AJIEK', gender='Male', SeniorCitizen=0, Partner='No', Dependents='No', tenure=66, PhoneService='Yes', MultipleLines='No', InternetService='Fiber optic', OnlineSecurity='Yes', OnlineBackup='No', DeviceProtection='Yes', TechSupport='Yes', StreamingTV='Yes', StreamingMovies='Yes', Contract='Two year', PaperlessBilling='Yes', PaymentMethod='Bank transfer (automatic)', MonthlyCharges=105.65, TotalCharges='6844.5', Churn='No')]"
            ]
          },
          "metadata": {
            "tags": []
          },
          "execution_count": 43
        }
      ]
    }
  ]
}