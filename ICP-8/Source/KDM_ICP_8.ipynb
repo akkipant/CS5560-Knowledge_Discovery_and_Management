{
  "nbformat": 4,
  "nbformat_minor": 0,
  "metadata": {
    "colab": {
      "name": "KDM_ICP-8.ipynb",
      "provenance": [],
      "include_colab_link": true
    },
    "kernelspec": {
      "name": "python3",
      "display_name": "Python 3"
    }
  },
  "cells": [
    {
      "cell_type": "markdown",
      "metadata": {
        "id": "view-in-github",
        "colab_type": "text"
      },
      "source": [
        "<a href=\"https://colab.research.google.com/github/akkipant/CS5560-Knowledge_Discovery_and_Management/blob/main/ICP-8/Source/KDM_ICP_8.ipynb\" target=\"_parent\"><img src=\"https://colab.research.google.com/assets/colab-badge.svg\" alt=\"Open In Colab\"/></a>"
      ]
    },
    {
      "cell_type": "code",
      "metadata": {
        "id": "TwvmHMzaNp8H",
        "colab": {
          "base_uri": "https://localhost:8080/"
        },
        "outputId": "8abfe8ab-6ee7-4f70-ebb4-0726e647a17d"
      },
      "source": [
        "!pip install textacy\n",
        "import spacy\n",
        "import textacy"
      ],
      "execution_count": null,
      "outputs": [
        {
          "output_type": "stream",
          "text": [
            "Collecting textacy\n",
            "\u001b[?25l  Downloading https://files.pythonhosted.org/packages/65/99/054efc5dea92c84a850639c490541de6cba29bc148debc3c73848c5e64c2/textacy-0.10.1-py3-none-any.whl (183kB)\n",
            "\r\u001b[K     |█▉                              | 10kB 16.8MB/s eta 0:00:01\r\u001b[K     |███▋                            | 20kB 20.6MB/s eta 0:00:01\r\u001b[K     |█████▍                          | 30kB 23.5MB/s eta 0:00:01\r\u001b[K     |███████▏                        | 40kB 25.0MB/s eta 0:00:01\r\u001b[K     |█████████                       | 51kB 14.7MB/s eta 0:00:01\r\u001b[K     |██████████▊                     | 61kB 15.9MB/s eta 0:00:01\r\u001b[K     |████████████▌                   | 71kB 12.8MB/s eta 0:00:01\r\u001b[K     |██████████████▎                 | 81kB 13.2MB/s eta 0:00:01\r\u001b[K     |████████████████                | 92kB 13.3MB/s eta 0:00:01\r\u001b[K     |██████████████████              | 102kB 12.9MB/s eta 0:00:01\r\u001b[K     |███████████████████▊            | 112kB 12.9MB/s eta 0:00:01\r\u001b[K     |█████████████████████▌          | 122kB 12.9MB/s eta 0:00:01\r\u001b[K     |███████████████████████▎        | 133kB 12.9MB/s eta 0:00:01\r\u001b[K     |█████████████████████████       | 143kB 12.9MB/s eta 0:00:01\r\u001b[K     |██████████████████████████▉     | 153kB 12.9MB/s eta 0:00:01\r\u001b[K     |████████████████████████████▋   | 163kB 12.9MB/s eta 0:00:01\r\u001b[K     |██████████████████████████████▍ | 174kB 12.9MB/s eta 0:00:01\r\u001b[K     |████████████████████████████████| 184kB 12.9MB/s \n",
            "\u001b[?25hRequirement already satisfied: joblib>=0.13.0 in /usr/local/lib/python3.7/dist-packages (from textacy) (1.0.1)\n",
            "Requirement already satisfied: pyemd>=0.5.0 in /usr/local/lib/python3.7/dist-packages (from textacy) (0.5.1)\n",
            "Requirement already satisfied: requests>=2.10.0 in /usr/local/lib/python3.7/dist-packages (from textacy) (2.23.0)\n",
            "Requirement already satisfied: spacy<3.0.0,>=2.2.0 in /usr/local/lib/python3.7/dist-packages (from textacy) (2.2.4)\n",
            "Collecting jellyfish>=0.7.0\n",
            "\u001b[?25l  Downloading https://files.pythonhosted.org/packages/30/a6/4d039bc827a102f62ce7a7910713e38fdfd7c7a40aa39c72fb14938a1473/jellyfish-0.8.2-cp37-cp37m-manylinux2014_x86_64.whl (90kB)\n",
            "\u001b[K     |████████████████████████████████| 92kB 5.7MB/s \n",
            "\u001b[?25hRequirement already satisfied: scikit-learn<0.24.0,>=0.19.0 in /usr/local/lib/python3.7/dist-packages (from textacy) (0.22.2.post1)\n",
            "Requirement already satisfied: srsly>=0.0.5 in /usr/local/lib/python3.7/dist-packages (from textacy) (1.0.5)\n",
            "Requirement already satisfied: cachetools>=2.0.1 in /usr/local/lib/python3.7/dist-packages (from textacy) (4.2.1)\n",
            "Requirement already satisfied: numpy>=1.17.0 in /usr/local/lib/python3.7/dist-packages (from textacy) (1.19.5)\n",
            "Requirement already satisfied: tqdm>=4.19.6 in /usr/local/lib/python3.7/dist-packages (from textacy) (4.41.1)\n",
            "Collecting cytoolz>=0.8.0\n",
            "\u001b[?25l  Downloading https://files.pythonhosted.org/packages/58/67/1c60da8ba831bfefedb64c78b9f6820bdf58972797c95644ee3191daf27a/cytoolz-0.11.0.tar.gz (477kB)\n",
            "\u001b[K     |████████████████████████████████| 481kB 11.2MB/s \n",
            "\u001b[?25hRequirement already satisfied: scipy>=0.17.0 in /usr/local/lib/python3.7/dist-packages (from textacy) (1.4.1)\n",
            "Requirement already satisfied: networkx>=2.0 in /usr/local/lib/python3.7/dist-packages (from textacy) (2.5)\n",
            "Collecting pyphen>=0.9.4\n",
            "\u001b[?25l  Downloading https://files.pythonhosted.org/packages/7c/5a/5bc036e01389bc6a6667a932bac3e388de6e7fa5777a6ff50e652f60ec79/Pyphen-0.10.0-py3-none-any.whl (1.9MB)\n",
            "\u001b[K     |████████████████████████████████| 1.9MB 29.8MB/s \n",
            "\u001b[?25hRequirement already satisfied: urllib3!=1.25.0,!=1.25.1,<1.26,>=1.21.1 in /usr/local/lib/python3.7/dist-packages (from requests>=2.10.0->textacy) (1.24.3)\n",
            "Requirement already satisfied: idna<3,>=2.5 in /usr/local/lib/python3.7/dist-packages (from requests>=2.10.0->textacy) (2.10)\n",
            "Requirement already satisfied: certifi>=2017.4.17 in /usr/local/lib/python3.7/dist-packages (from requests>=2.10.0->textacy) (2020.12.5)\n",
            "Requirement already satisfied: chardet<4,>=3.0.2 in /usr/local/lib/python3.7/dist-packages (from requests>=2.10.0->textacy) (3.0.4)\n",
            "Requirement already satisfied: murmurhash<1.1.0,>=0.28.0 in /usr/local/lib/python3.7/dist-packages (from spacy<3.0.0,>=2.2.0->textacy) (1.0.5)\n",
            "Requirement already satisfied: plac<1.2.0,>=0.9.6 in /usr/local/lib/python3.7/dist-packages (from spacy<3.0.0,>=2.2.0->textacy) (1.1.3)\n",
            "Requirement already satisfied: thinc==7.4.0 in /usr/local/lib/python3.7/dist-packages (from spacy<3.0.0,>=2.2.0->textacy) (7.4.0)\n",
            "Requirement already satisfied: blis<0.5.0,>=0.4.0 in /usr/local/lib/python3.7/dist-packages (from spacy<3.0.0,>=2.2.0->textacy) (0.4.1)\n",
            "Requirement already satisfied: cymem<2.1.0,>=2.0.2 in /usr/local/lib/python3.7/dist-packages (from spacy<3.0.0,>=2.2.0->textacy) (2.0.5)\n",
            "Requirement already satisfied: setuptools in /usr/local/lib/python3.7/dist-packages (from spacy<3.0.0,>=2.2.0->textacy) (54.0.0)\n",
            "Requirement already satisfied: preshed<3.1.0,>=3.0.2 in /usr/local/lib/python3.7/dist-packages (from spacy<3.0.0,>=2.2.0->textacy) (3.0.5)\n",
            "Requirement already satisfied: catalogue<1.1.0,>=0.0.7 in /usr/local/lib/python3.7/dist-packages (from spacy<3.0.0,>=2.2.0->textacy) (1.0.0)\n",
            "Requirement already satisfied: wasabi<1.1.0,>=0.4.0 in /usr/local/lib/python3.7/dist-packages (from spacy<3.0.0,>=2.2.0->textacy) (0.8.2)\n",
            "Requirement already satisfied: toolz>=0.8.0 in /usr/local/lib/python3.7/dist-packages (from cytoolz>=0.8.0->textacy) (0.11.1)\n",
            "Requirement already satisfied: decorator>=4.3.0 in /usr/local/lib/python3.7/dist-packages (from networkx>=2.0->textacy) (4.4.2)\n",
            "Requirement already satisfied: importlib-metadata>=0.20; python_version < \"3.8\" in /usr/local/lib/python3.7/dist-packages (from catalogue<1.1.0,>=0.0.7->spacy<3.0.0,>=2.2.0->textacy) (3.7.2)\n",
            "Requirement already satisfied: zipp>=0.5 in /usr/local/lib/python3.7/dist-packages (from importlib-metadata>=0.20; python_version < \"3.8\"->catalogue<1.1.0,>=0.0.7->spacy<3.0.0,>=2.2.0->textacy) (3.4.1)\n",
            "Requirement already satisfied: typing-extensions>=3.6.4; python_version < \"3.8\" in /usr/local/lib/python3.7/dist-packages (from importlib-metadata>=0.20; python_version < \"3.8\"->catalogue<1.1.0,>=0.0.7->spacy<3.0.0,>=2.2.0->textacy) (3.7.4.3)\n",
            "Building wheels for collected packages: cytoolz\n",
            "  Building wheel for cytoolz (setup.py) ... \u001b[?25l\u001b[?25hdone\n",
            "  Created wheel for cytoolz: filename=cytoolz-0.11.0-cp37-cp37m-linux_x86_64.whl size=1223248 sha256=525f36ba62ff4d15bf396ba1687ba49edb9659e3a47e60c8cc56b9623b934bde\n",
            "  Stored in directory: /root/.cache/pip/wheels/a1/32/3c/9c9926b510647cacdde744b2c7acdf1ccd5896fbb7f8d5df0c\n",
            "Successfully built cytoolz\n",
            "Installing collected packages: jellyfish, cytoolz, pyphen, textacy\n",
            "Successfully installed cytoolz-0.11.0 jellyfish-0.8.2 pyphen-0.10.0 textacy-0.10.1\n"
          ],
          "name": "stdout"
        }
      ]
    },
    {
      "cell_type": "code",
      "metadata": {
        "id": "M1oaMGkgN73L"
      },
      "source": [
        "# loading en_core_web_sm model\n",
        "\n",
        "nlp = spacy.load(\"en_core_web_sm\")\n",
        "doc = nlp(\"Coronaviruses are a group of related RNA viruses that cause diseases in mammals and birds. In humans and birds, they cause respiratory tract infections that can range from mild to lethal. Mild illnesses in humans include some cases of the common cold (which is also caused by other viruses, predominantly rhinoviruses), while more lethal varieties can cause SARS, MERS, and COVID-19. In cows and pigs they cause diarrhea, while in mice they cause hepatitis and encephalomyelitis.\")"
      ],
      "execution_count": null,
      "outputs": []
    },
    {
      "cell_type": "code",
      "metadata": {
        "id": "EUwSZYOQNrxY",
        "colab": {
          "base_uri": "https://localhost:8080/"
        },
        "outputId": "e5ad82f9-e6c3-4097-8f2b-1de88a29dd63"
      },
      "source": [
        "for token in doc:\n",
        "    print(token.text, token.pos_, token.dep_)"
      ],
      "execution_count": null,
      "outputs": [
        {
          "output_type": "stream",
          "text": [
            "Coronaviruses NOUN nsubj\n",
            "are AUX ROOT\n",
            "a DET det\n",
            "group NOUN attr\n",
            "of ADP prep\n",
            "related VERB amod\n",
            "RNA PROPN compound\n",
            "viruses NOUN pobj\n",
            "that DET nsubj\n",
            "cause VERB relcl\n",
            "diseases NOUN dobj\n",
            "in ADP prep\n",
            "mammals NOUN pobj\n",
            "and CCONJ cc\n",
            "birds NOUN conj\n",
            ". PUNCT punct\n",
            "In ADP prep\n",
            "humans NOUN pobj\n",
            "and CCONJ cc\n",
            "birds NOUN conj\n",
            ", PUNCT punct\n",
            "they PRON nsubj\n",
            "cause VERB ROOT\n",
            "respiratory ADJ amod\n",
            "tract NOUN compound\n",
            "infections NOUN dobj\n",
            "that DET nsubj\n",
            "can VERB aux\n",
            "range VERB relcl\n",
            "from ADP prep\n",
            "mild ADJ amod\n",
            "to ADP prep\n",
            "lethal ADJ pobj\n",
            ". PUNCT punct\n",
            "Mild ADJ amod\n",
            "illnesses NOUN nsubj\n",
            "in ADP prep\n",
            "humans NOUN pobj\n",
            "include VERB ROOT\n",
            "some DET det\n",
            "cases NOUN dobj\n",
            "of ADP prep\n",
            "the DET det\n",
            "common ADJ amod\n",
            "cold NOUN pobj\n",
            "( PUNCT punct\n",
            "which DET nsubjpass\n",
            "is AUX auxpass\n",
            "also ADV advmod\n",
            "caused VERB relcl\n",
            "by ADP agent\n",
            "other ADJ amod\n",
            "viruses NOUN pobj\n",
            ", PUNCT punct\n",
            "predominantly ADV advmod\n",
            "rhinoviruses NOUN appos\n",
            ") PUNCT punct\n",
            ", PUNCT punct\n",
            "while SCONJ mark\n",
            "more ADJ amod\n",
            "lethal ADJ amod\n",
            "varieties NOUN nsubj\n",
            "can VERB aux\n",
            "cause VERB advcl\n",
            "SARS PROPN dobj\n",
            ", PUNCT punct\n",
            "MERS NOUN conj\n",
            ", PUNCT punct\n",
            "and CCONJ cc\n",
            "COVID-19 NOUN conj\n",
            ". PUNCT punct\n",
            "In ADP prep\n",
            "cows NOUN pobj\n",
            "and CCONJ cc\n",
            "pigs NOUN conj\n",
            "they PRON nsubj\n",
            "cause VERB ROOT\n",
            "diarrhea NOUN dobj\n",
            ", PUNCT punct\n",
            "while SCONJ mark\n",
            "in ADP prep\n",
            "mice NOUN pobj\n",
            "they PRON nsubj\n",
            "cause VERB advcl\n",
            "hepatitis NOUN dobj\n",
            "and CCONJ cc\n",
            "encephalomyelitis NOUN conj\n",
            ". PUNCT punct\n"
          ],
          "name": "stdout"
        }
      ]
    },
    {
      "cell_type": "code",
      "metadata": {
        "id": "_NPYrvHwN4uC"
      },
      "source": [
        "tuples_list = []\n",
        "\n",
        "#extracting triplet using textacy library\n",
        "tuples = textacy.extract.subject_verb_object_triples(doc)\n",
        "tuples_to_list = list(tuples)\n",
        "if tuples_to_list != []:\n",
        "    tuples_list.append(tuples_to_list)"
      ],
      "execution_count": null,
      "outputs": []
    },
    {
      "cell_type": "code",
      "metadata": {
        "colab": {
          "base_uri": "https://localhost:8080/"
        },
        "id": "G_yofTMBOLIJ",
        "outputId": "f9af0248-cfe8-4365-d5b9-0591cc1f8088"
      },
      "source": [
        "for pair in tuples_list[0]:\n",
        "    print(pair)"
      ],
      "execution_count": null,
      "outputs": [
        {
          "output_type": "stream",
          "text": [
            "(that, cause, diseases)\n",
            "(they, cause, tract infections)\n",
            "(illnesses, include, cases)\n",
            "(varieties, can cause, SARS)\n",
            "(varieties, can cause, MERS)\n",
            "(varieties, can cause, COVID-19)\n",
            "(they, cause, diarrhea)\n",
            "(they, cause, hepatitis)\n",
            "(they, cause, encephalomyelitis)\n"
          ],
          "name": "stdout"
        }
      ]
    },
    {
      "cell_type": "markdown",
      "metadata": {
        "id": "eZKZZWg2OcMP"
      },
      "source": [
        "## Text 2"
      ]
    },
    {
      "cell_type": "code",
      "metadata": {
        "id": "xsoULmdQONoK"
      },
      "source": [
        "# loading en_core_web_sm model\n",
        "\n",
        "nlp = spacy.load(\"en_core_web_sm\")\n",
        "doc = nlp(\"The disease causes respiratory illness (like the flu) with symptoms such as a cough, fever, and in more severe cases, difficulty breathing. You can protect yourself by washing your hands frequently, avoiding touching your face, and avoiding close contact (1 meter or 3 feet) with people who are unwell.\")"
      ],
      "execution_count": null,
      "outputs": []
    },
    {
      "cell_type": "code",
      "metadata": {
        "colab": {
          "base_uri": "https://localhost:8080/"
        },
        "id": "5ocxDwwdOfQa",
        "outputId": "e46efa27-9095-4b9e-9ed2-a7e41939058f"
      },
      "source": [
        "tuples_list = []\n",
        "\n",
        "#extracting triplet using textacy library\n",
        "tuples = textacy.extract.subject_verb_object_triples(doc)\n",
        "tuples_to_list = list(tuples)\n",
        "if tuples_to_list != []:\n",
        "    tuples_list.append(tuples_to_list)\n",
        "\n",
        "for pair in tuples_list[0]:\n",
        "    print(pair)"
      ],
      "execution_count": null,
      "outputs": [
        {
          "output_type": "stream",
          "text": [
            "(disease, causes, illness)\n",
            "(You, can protect, yourself)\n"
          ],
          "name": "stdout"
        }
      ]
    },
    {
      "cell_type": "markdown",
      "metadata": {
        "id": "lPxBWWosOmBN"
      },
      "source": [
        "## Text 3"
      ]
    },
    {
      "cell_type": "code",
      "metadata": {
        "id": "85n_GEjOOhxN"
      },
      "source": [
        "# loading en_core_web_sm model\n",
        "\n",
        "nlp = spacy.load(\"en_core_web_sm\")\n",
        "doc = nlp(\"Coronavirus disease spreads primarily through contact with an infected person when they cough or sneeze. It also spreads when a person touches a surface or object that has the virus on it, then touches their eyes, nose, or mouth.\")"
      ],
      "execution_count": null,
      "outputs": []
    },
    {
      "cell_type": "code",
      "metadata": {
        "colab": {
          "base_uri": "https://localhost:8080/"
        },
        "id": "jA7u3SfaOpoE",
        "outputId": "032d0329-73c2-4940-a20a-e49528cccfbc"
      },
      "source": [
        "tuples_list = []\n",
        "\n",
        "#extracting triplet using textacy library\n",
        "tuples = textacy.extract.subject_verb_object_triples(doc)\n",
        "tuples_to_list = list(tuples)\n",
        "if tuples_to_list != []:\n",
        "    tuples_list.append(tuples_to_list)\n",
        "\n",
        "for pair in tuples_list[0]:\n",
        "    print(pair)"
      ],
      "execution_count": null,
      "outputs": [
        {
          "output_type": "stream",
          "text": [
            "(person, touches, surface)\n",
            "(person, touches, object)\n"
          ],
          "name": "stdout"
        }
      ]
    },
    {
      "cell_type": "code",
      "metadata": {
        "id": "AR_tGuWmOrUH"
      },
      "source": [
        ""
      ],
      "execution_count": null,
      "outputs": []
    }
  ]
}